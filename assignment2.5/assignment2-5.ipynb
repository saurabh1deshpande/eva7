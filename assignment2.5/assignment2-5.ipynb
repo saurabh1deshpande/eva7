{
 "cells": [
  {
   "cell_type": "code",
   "execution_count": null,
   "metadata": {
    "collapsed": true,
    "id": "AGbMMU0gktHN"
   },
   "outputs": [],
   "source": [
    "import torch\n",
    "import torchvision\n",
    "import torch.nn as nn\n",
    "import torch.nn.functional as F\n",
    "import torch.optim as optim\n",
    "from datetime import datetime\n",
    "import matplotlib.pyplot as plt\n",
    "from torch.utils.data import Dataset\n",
    "from torchvision.datasets import MNIST\n",
    "from random import randrange\n",
    "from matplotlib import pyplot as plt"
   ]
  },
  {
   "cell_type": "code",
   "execution_count": 25,
   "metadata": {
    "id": "hOQV0rcJmo_x",
    "outputId": "8208ad22-e5a1-4cb2-a26e-b47dac39739e",
    "colab": {
     "base_uri": "https://localhost:8080/"
    }
   },
   "outputs": [
    {
     "data": {
      "text/plain": [
       "<torch._C.Generator at 0x7f9938daf7d0>"
      ]
     },
     "execution_count": 25,
     "metadata": {},
     "output_type": "execute_result"
    }
   ],
   "source": [
    "torch.manual_seed(0)"
   ]
  },
  {
   "cell_type": "code",
   "execution_count": 26,
   "metadata": {
    "colab": {
     "base_uri": "https://localhost:8080/"
    },
    "id": "oo17usX2kFvq",
    "outputId": "70069ce7-892f-4304-e4ab-c08dad4885e4"
   },
   "outputs": [
    {
     "data": {
      "text/plain": [
       "True"
      ]
     },
     "execution_count": 26,
     "metadata": {},
     "output_type": "execute_result"
    }
   ],
   "source": [
    "loss_function = F.nll_loss\n",
    "use_gpu = torch.cuda.is_available()\n",
    "use_gpu"
   ]
  },
  {
   "cell_type": "code",
   "execution_count": 27,
   "metadata": {
    "id": "WYce_-g9mF1I"
   },
   "outputs": [],
   "source": [
    "# Neural Network Class\n",
    "class Network(nn.Module):\n",
    "    def __init__(self):\n",
    "        super(Network, self).__init__()\n",
    "        # Layers for Image Number Prediction\n",
    "        # input 28 | output 24 | Because of Stride 5\n",
    "        self.conv1 = nn.Conv2d(in_channels=1, out_channels=10, kernel_size=5)\n",
    "\n",
    "        # input 24 | output 20 | Because of Stride 5\n",
    "        self.conv2 = nn.Conv2d(in_channels=10, out_channels=20, kernel_size=5)\n",
    "        self.conv2_drop = nn.Dropout2d()\n",
    "        self.fc1 = nn.Linear(in_features=20 * 4 * 4, out_features=50)\n",
    "        self.out = nn.Linear(in_features=50, out_features=10)\n",
    "\n",
    "        # Layers for Sum Prediction\n",
    "        self.sum_fc1 = nn.Linear(in_features=20, out_features=50)\n",
    "        self.sum_fc2 = nn.Linear(in_features=50, out_features=70)\n",
    "        self.sum_fc3 = nn.Linear(in_features=70, out_features=40)\n",
    "        self.sum_out = nn.Linear(in_features=40, out_features=19)\n",
    "\n",
    "\n",
    "    def forward(self, x, x_int):\n",
    "        # Processing Image\n",
    "        x = self.conv1(x) # input image size 28 | output image size 24 | Because of Stride 5\n",
    "        x = F.max_pool2d(x, kernel_size=2, stride=2)  # input image size 24 | output image size 12 | Because of Maxpooling\n",
    "        x = F.relu(x) # Output Channels 10\n",
    "\n",
    "\n",
    "        x = self.conv2(x) # input image size 12 | output image size 8 | Because of Stride 5\n",
    "        x = self.conv2_drop(x)\n",
    "        x = F.max_pool2d(x, kernel_size=2,stride=2)   # input image size 8 | output image size 4 | Because of Maxpooling\n",
    "        x = F.relu(x) # Output Channels 20\n",
    "\n",
    "        x = x.reshape(-1, 20 * 4 * 4)\n",
    "\n",
    "        x = F.relu(self.fc1(x))\n",
    "        x = F.dropout(x, training=self.training)\n",
    "        x = F.log_softmax(F.relu(self.out(x)))\n",
    "\n",
    "        # Processing Number\n",
    "        # Getting number predicted by the image network\n",
    "        num_x = x.data.max(1, keepdim=True)[1]\n",
    "\n",
    "        # One hot encoding of the number predicted by the image network - 10 classes - 0 to 9\n",
    "        num_x_one_hot = F.one_hot(num_x.squeeze(), num_classes=10)\n",
    "        \n",
    "        # One Hot encoding of input number - 10 classes - 0 to 9\n",
    "        x_int_one_hot = F.one_hot(x_int, num_classes=10)\n",
    "\n",
    "        # This condition is required for testing single sample\n",
    "        if len(num_x_one_hot.shape) == 1:\n",
    "            num_x_one_hot = num_x_one_hot.unsqueeze(dim=0)\n",
    "\n",
    "        # Concatnet the one hot encoded image number and input number columnwise - dim=1\n",
    "        # For batch size of 1000\n",
    "        # One hot encoded image number shape 1000 x 10\n",
    "        # One hot encoded input number shape 1000 x 10\n",
    "\n",
    "        sum_t = torch.cat((num_x_one_hot,x_int_one_hot), dim=1).float()\n",
    "        # After concatenation - 1000 x 20\n",
    "\n",
    "        # Now take channels from 20 -> 50 -> 70 -> 40 -> 19\n",
    "        # Final channels are 19 - as the maximum sum can be 9 + 9 = 18\n",
    "        sum_t = F.relu(self.sum_fc1(sum_t))\n",
    "        sum_t = F.dropout(F.relu(self.sum_fc2(sum_t)), training=self.training)\n",
    "        sum_t = F.dropout(F.relu(self.sum_fc3(sum_t)), training=self.training)\n",
    "        sum_t = F.log_softmax(F.relu(self.sum_out(sum_t)))\n",
    "\n",
    "        # Returning processed image and number \n",
    "        return x,sum_t"
   ]
  },
  {
   "cell_type": "code",
   "execution_count": 28,
   "metadata": {
    "id": "J6pJftt1r6pD"
   },
   "outputs": [],
   "source": [
    "# Custom dataloader combining image and a random number\n",
    "# Inherits from MNIST\n",
    "# We need to override only __getitem__ to return a random number along with an image\n",
    "class MNISTPlusDataset(MNIST):\n",
    "    def __getitem__(self, index):\n",
    "        # User parent class __getitem__ method to get an image\n",
    "        item = super(MNISTPlusDataset, self).__getitem__(index)\n",
    "\n",
    "        # Generate random int 0 to 9\n",
    "        random_int = torch.tensor(randrange(10))\n",
    "\n",
    "        # return tuple with following \n",
    "        # x :  a tuple, image and a random number\n",
    "        # y : a tuple, true image lable and random number + true image number \n",
    "        return (\n",
    "            (item[0], random_int),\n",
    "            (item[1],random_int + item[1])\n",
    "        )"
   ]
  },
  {
   "cell_type": "code",
   "execution_count": 29,
   "metadata": {
    "id": "R8jUGw37xwch"
   },
   "outputs": [],
   "source": [
    "# Custom loss function\n",
    "# Combines loss from image and sum processing\n",
    "# Returns average loss\n",
    "def custom_loss(x_output,y,x_sum_output,y_sum):\n",
    "    loss_x = loss_function(x_output,y)\n",
    "    loss_y_sum = loss_function(x_sum_output, y_sum)\n",
    "    return (loss_x + loss_y_sum)/2"
   ]
  },
  {
   "cell_type": "code",
   "execution_count": 30,
   "metadata": {
    "id": "U_RqjYma6P0O"
   },
   "outputs": [],
   "source": [
    "train_losses = []\n",
    "test_losses = []\n",
    "train_counter = []\n",
    "log_interval = 10"
   ]
  },
  {
   "cell_type": "code",
   "execution_count": 31,
   "metadata": {
    "id": "LNfsn1wiyMgj"
   },
   "outputs": [],
   "source": [
    "# Train function. This runs single epoch.\n",
    "# Inputs -\n",
    "# network - Network class object\n",
    "# train_loader - Custom train loader\n",
    "# optimizer - optimizer object\n",
    "# epoc - epoc number\n",
    "def train(network, train_loader, optimizer, epoch):\n",
    "    # Turn on the training mode - enables gradient\n",
    "    network.train()\n",
    "\n",
    "    for batch_idx, (image, target) in enumerate(train_loader):\n",
    "        # Initialize gradients to zero\n",
    "        optimizer.zero_grad()\n",
    "\n",
    "        # image and targets are tuples as mentioned in custom dataloader class\n",
    "        output, output_sum = network(image[0], image[1])\n",
    "        loss = custom_loss(output, target[0],output_sum,target[1])\n",
    "        loss.backward()\n",
    "        optimizer.step()\n",
    "\n",
    "        if batch_idx % log_interval == 0:\n",
    "            if batch_idx % log_interval == 0:\n",
    "                print('Train Epoch: {} [{}/{} ({:.0f}%)]\\tLoss: {:.6f}'.format(\n",
    "                    epoch, batch_idx * len(image[0]), len(train_loader.dataset),\n",
    "                           100. * batch_idx / len(train_loader), loss.item()))\n",
    "                # Preserve loss for plotting\n",
    "                train_losses.append(loss.item())\n",
    "                train_counter.append(\n",
    "                    (batch_idx * 64) + ((epoch - 1) * len(train_loader.dataset)))\n",
    "      "
   ]
  },
  {
   "cell_type": "code",
   "execution_count": 32,
   "metadata": {
    "id": "bsT7cMFs6bEq"
   },
   "outputs": [],
   "source": [
    "def test(network, test_loader):    \n",
    "    network.eval()\n",
    "    test_loss = 0\n",
    "    correct = 0\n",
    "    correct_sum = 0\n",
    "    with torch.no_grad():\n",
    "        for image, target in test_loader:\n",
    "            output, output_sum = network(image[0], image[1])\n",
    "            loss = custom_loss(output, target[0], output_sum, target[1])\n",
    "            test_loss += loss.item()\n",
    "            pred = output.data.max(1, keepdim=True)[1]\n",
    "            pred_sum = output_sum.data.max(1, keepdim=True)[1]\n",
    "            correct += pred.eq(target[0].data.view_as(pred)).sum()\n",
    "            correct_sum += pred_sum.eq(target[1].data.view_as(pred_sum)).sum()\n",
    "\n",
    "        test_loss /= len(test_loader.dataset)\n",
    "        test_losses.append(test_loss)\n",
    "        print('\\nTest set: Avg. loss: {:.4f}, Accuracy Image: {}/{} ({:.0f}%) , Accuracy Sum: {}/{} ({:.0f}%)\\n'.format(\n",
    "            test_loss, correct, len(test_loader.dataset),\n",
    "            100. * correct / len(test_loader.dataset), correct_sum,len(test_loader.dataset), 100. * correct_sum / len(test_loader.dataset)))"
   ]
  },
  {
   "cell_type": "code",
   "execution_count": 33,
   "metadata": {
    "id": "jb3VKSyzjPZi"
   },
   "outputs": [],
   "source": [
    "def plot_loss():\n",
    "    fig = plt.figure()\n",
    "    plt.plot(train_counter, train_losses, color='blue')\n",
    "    #plt.scatter(test_counter, test_losses, color='red')\n",
    "    plt.legend(['Train Loss', 'Test Loss'], loc='upper right')\n",
    "    plt.xlabel('number of training examples seen')\n",
    "    plt.ylabel('negative log likelihood loss')\n",
    "    plt.show()\n"
   ]
  },
  {
   "cell_type": "code",
   "execution_count": 34,
   "metadata": {
    "id": "THJ-CRHlk0b9"
   },
   "outputs": [],
   "source": [
    "# Runs sample inputs to show that output\n",
    "def run_some_samples(network,test_loader,num_samples):\n",
    "    for i in range(num_samples):\n",
    "        image = next(iter(test_loader))\n",
    "        output, output_sum = network(image[0][0][i].unsqueeze(dim=0), image[0][1][i].unsqueeze(dim=0))\n",
    "        print(f\"Image Predicted:{torch.argmax(output.squeeze()).item()}, Image Actual:{image[1][0][i].item()},Random Input Number:{image[0][1][i].item()},Sum Precicted:{torch.argmax(output_sum.squeeze()).item()}, Sum Actual:{image[1][1][i]}\")\n"
   ]
  },
  {
   "cell_type": "code",
   "execution_count": 35,
   "metadata": {
    "id": "ze7gDb15jXs3"
   },
   "outputs": [],
   "source": [
    "network = Network()\n",
    "n_epochs = 2\n",
    "batch_size_train = 64\n",
    "batch_size_test = 1000\n",
    "learning_rate = 0.01"
   ]
  },
  {
   "cell_type": "code",
   "execution_count": 36,
   "metadata": {
    "id": "elkqESv-j2f1"
   },
   "outputs": [],
   "source": [
    "train_loader = torch.utils.data.DataLoader(\n",
    "        MNISTPlusDataset('/files/', train=True, download=True,\n",
    "                                   transform=torchvision.transforms.Compose([\n",
    "                                       torchvision.transforms.ToTensor(),\n",
    "                                       torchvision.transforms.Normalize(\n",
    "                                           (0.1307,), (0.3081,))\n",
    "                                   ])),\n",
    "        batch_size=batch_size_train, shuffle=True)\n",
    "\n",
    "test_loader = torch.utils.data.DataLoader(\n",
    "    MNISTPlusDataset('/files/', train=False, download=True,\n",
    "                                transform=torchvision.transforms.Compose([\n",
    "                                    torchvision.transforms.ToTensor(),\n",
    "                                    torchvision.transforms.Normalize(\n",
    "                                        (0.1307,), (0.3081,))\n",
    "                                ])),\n",
    "    batch_size=batch_size_test, shuffle=True)"
   ]
  },
  {
   "cell_type": "code",
   "execution_count": 37,
   "metadata": {
    "colab": {
     "base_uri": "https://localhost:8080/"
    },
    "id": "ncFuBHa9jbw8",
    "outputId": "81160444-8b72-4ab3-9b0a-5031c1b8ac11"
   },
   "outputs": [
    {
     "name": "stderr",
     "output_type": "stream",
     "text": [
      "/usr/local/lib/python3.7/dist-packages/ipykernel_launcher.py:38: UserWarning: Implicit dimension choice for log_softmax has been deprecated. Change the call to include dim=X as an argument.\n",
      "/usr/local/lib/python3.7/dist-packages/ipykernel_launcher.py:67: UserWarning: Implicit dimension choice for log_softmax has been deprecated. Change the call to include dim=X as an argument.\n"
     ]
    },
    {
     "name": "stdout",
     "output_type": "stream",
     "text": [
      "\n",
      "Test set: Avg. loss: 0.0026, Accuracy Image: 767/10000 (8%) , Accuracy Sum: 881/10000 (9%)\n",
      "\n"
     ]
    }
   ],
   "source": [
    "test_counter = [i * len(train_loader.dataset) for i in range(n_epochs + 1)]\n",
    "optimizer = optim.Adam(network.parameters(),lr=learning_rate)\n",
    "test(network, test_loader)"
   ]
  },
  {
   "cell_type": "code",
   "execution_count": 38,
   "metadata": {
    "colab": {
     "base_uri": "https://localhost:8080/"
    },
    "id": "J_8swjj7kPfR",
    "outputId": "5843a14b-89a8-45d1-b05b-68e669d0677d"
   },
   "outputs": [
    {
     "name": "stdout",
     "output_type": "stream",
     "text": [
      "Train Epoch: 1 [0/60000 (0%)]\tLoss: 2.622727\n"
     ]
    },
    {
     "name": "stderr",
     "output_type": "stream",
     "text": [
      "/usr/local/lib/python3.7/dist-packages/ipykernel_launcher.py:38: UserWarning: Implicit dimension choice for log_softmax has been deprecated. Change the call to include dim=X as an argument.\n",
      "/usr/local/lib/python3.7/dist-packages/ipykernel_launcher.py:67: UserWarning: Implicit dimension choice for log_softmax has been deprecated. Change the call to include dim=X as an argument.\n"
     ]
    },
    {
     "name": "stdout",
     "output_type": "stream",
     "text": [
      "Train Epoch: 1 [640/60000 (1%)]\tLoss: 2.601291\n",
      "Train Epoch: 1 [1280/60000 (2%)]\tLoss: 2.579573\n",
      "Train Epoch: 1 [1920/60000 (3%)]\tLoss: 2.499271\n",
      "Train Epoch: 1 [2560/60000 (4%)]\tLoss: 2.434573\n",
      "Train Epoch: 1 [3200/60000 (5%)]\tLoss: 2.280845\n",
      "Train Epoch: 1 [3840/60000 (6%)]\tLoss: 2.241239\n",
      "Train Epoch: 1 [4480/60000 (7%)]\tLoss: 2.197711\n",
      "Train Epoch: 1 [5120/60000 (9%)]\tLoss: 2.196783\n",
      "Train Epoch: 1 [5760/60000 (10%)]\tLoss: 1.987944\n",
      "Train Epoch: 1 [6400/60000 (11%)]\tLoss: 2.103459\n",
      "Train Epoch: 1 [7040/60000 (12%)]\tLoss: 1.836078\n",
      "Train Epoch: 1 [7680/60000 (13%)]\tLoss: 1.922453\n",
      "Train Epoch: 1 [8320/60000 (14%)]\tLoss: 1.950262\n",
      "Train Epoch: 1 [8960/60000 (15%)]\tLoss: 1.847073\n",
      "Train Epoch: 1 [9600/60000 (16%)]\tLoss: 1.682628\n",
      "Train Epoch: 1 [10240/60000 (17%)]\tLoss: 1.534135\n",
      "Train Epoch: 1 [10880/60000 (18%)]\tLoss: 1.679816\n",
      "Train Epoch: 1 [11520/60000 (19%)]\tLoss: 1.616724\n",
      "Train Epoch: 1 [12160/60000 (20%)]\tLoss: 1.684713\n",
      "Train Epoch: 1 [12800/60000 (21%)]\tLoss: 1.659285\n",
      "Train Epoch: 1 [13440/60000 (22%)]\tLoss: 1.557932\n",
      "Train Epoch: 1 [14080/60000 (23%)]\tLoss: 1.706274\n",
      "Train Epoch: 1 [14720/60000 (25%)]\tLoss: 1.570186\n",
      "Train Epoch: 1 [15360/60000 (26%)]\tLoss: 1.585022\n",
      "Train Epoch: 1 [16000/60000 (27%)]\tLoss: 1.212152\n",
      "Train Epoch: 1 [16640/60000 (28%)]\tLoss: 1.367958\n",
      "Train Epoch: 1 [17280/60000 (29%)]\tLoss: 1.496133\n",
      "Train Epoch: 1 [17920/60000 (30%)]\tLoss: 1.524735\n",
      "Train Epoch: 1 [18560/60000 (31%)]\tLoss: 1.526654\n",
      "Train Epoch: 1 [19200/60000 (32%)]\tLoss: 1.477821\n",
      "Train Epoch: 1 [19840/60000 (33%)]\tLoss: 1.331638\n",
      "Train Epoch: 1 [20480/60000 (34%)]\tLoss: 1.466976\n",
      "Train Epoch: 1 [21120/60000 (35%)]\tLoss: 1.551928\n",
      "Train Epoch: 1 [21760/60000 (36%)]\tLoss: 1.370420\n",
      "Train Epoch: 1 [22400/60000 (37%)]\tLoss: 1.417648\n",
      "Train Epoch: 1 [23040/60000 (38%)]\tLoss: 1.391826\n",
      "Train Epoch: 1 [23680/60000 (39%)]\tLoss: 1.526440\n",
      "Train Epoch: 1 [24320/60000 (41%)]\tLoss: 1.497705\n",
      "Train Epoch: 1 [24960/60000 (42%)]\tLoss: 1.393142\n",
      "Train Epoch: 1 [25600/60000 (43%)]\tLoss: 1.575748\n",
      "Train Epoch: 1 [26240/60000 (44%)]\tLoss: 1.618791\n",
      "Train Epoch: 1 [26880/60000 (45%)]\tLoss: 1.638739\n",
      "Train Epoch: 1 [27520/60000 (46%)]\tLoss: 1.327729\n",
      "Train Epoch: 1 [28160/60000 (47%)]\tLoss: 1.332340\n",
      "Train Epoch: 1 [28800/60000 (48%)]\tLoss: 1.413171\n",
      "Train Epoch: 1 [29440/60000 (49%)]\tLoss: 1.415403\n",
      "Train Epoch: 1 [30080/60000 (50%)]\tLoss: 1.169901\n",
      "Train Epoch: 1 [30720/60000 (51%)]\tLoss: 1.459959\n",
      "Train Epoch: 1 [31360/60000 (52%)]\tLoss: 1.565820\n",
      "Train Epoch: 1 [32000/60000 (53%)]\tLoss: 1.453258\n",
      "Train Epoch: 1 [32640/60000 (54%)]\tLoss: 1.588836\n",
      "Train Epoch: 1 [33280/60000 (55%)]\tLoss: 1.523929\n",
      "Train Epoch: 1 [33920/60000 (57%)]\tLoss: 1.110984\n",
      "Train Epoch: 1 [34560/60000 (58%)]\tLoss: 1.263297\n",
      "Train Epoch: 1 [35200/60000 (59%)]\tLoss: 1.327841\n",
      "Train Epoch: 1 [35840/60000 (60%)]\tLoss: 1.211015\n",
      "Train Epoch: 1 [36480/60000 (61%)]\tLoss: 0.992418\n",
      "Train Epoch: 1 [37120/60000 (62%)]\tLoss: 1.544891\n",
      "Train Epoch: 1 [37760/60000 (63%)]\tLoss: 1.534909\n",
      "Train Epoch: 1 [38400/60000 (64%)]\tLoss: 1.131405\n",
      "Train Epoch: 1 [39040/60000 (65%)]\tLoss: 1.345360\n",
      "Train Epoch: 1 [39680/60000 (66%)]\tLoss: 1.036449\n",
      "Train Epoch: 1 [40320/60000 (67%)]\tLoss: 1.131922\n",
      "Train Epoch: 1 [40960/60000 (68%)]\tLoss: 1.165909\n",
      "Train Epoch: 1 [41600/60000 (69%)]\tLoss: 1.503922\n",
      "Train Epoch: 1 [42240/60000 (70%)]\tLoss: 1.601086\n",
      "Train Epoch: 1 [42880/60000 (71%)]\tLoss: 1.453146\n",
      "Train Epoch: 1 [43520/60000 (72%)]\tLoss: 1.224708\n",
      "Train Epoch: 1 [44160/60000 (74%)]\tLoss: 1.104309\n",
      "Train Epoch: 1 [44800/60000 (75%)]\tLoss: 1.219226\n",
      "Train Epoch: 1 [45440/60000 (76%)]\tLoss: 1.179424\n",
      "Train Epoch: 1 [46080/60000 (77%)]\tLoss: 1.054514\n",
      "Train Epoch: 1 [46720/60000 (78%)]\tLoss: 1.133546\n",
      "Train Epoch: 1 [47360/60000 (79%)]\tLoss: 1.279637\n",
      "Train Epoch: 1 [48000/60000 (80%)]\tLoss: 1.317693\n",
      "Train Epoch: 1 [48640/60000 (81%)]\tLoss: 1.076989\n",
      "Train Epoch: 1 [49280/60000 (82%)]\tLoss: 1.020066\n",
      "Train Epoch: 1 [49920/60000 (83%)]\tLoss: 1.412489\n",
      "Train Epoch: 1 [50560/60000 (84%)]\tLoss: 0.786996\n",
      "Train Epoch: 1 [51200/60000 (85%)]\tLoss: 1.055205\n",
      "Train Epoch: 1 [51840/60000 (86%)]\tLoss: 1.321700\n",
      "Train Epoch: 1 [52480/60000 (87%)]\tLoss: 1.237515\n",
      "Train Epoch: 1 [53120/60000 (88%)]\tLoss: 1.261555\n",
      "Train Epoch: 1 [53760/60000 (90%)]\tLoss: 1.121562\n",
      "Train Epoch: 1 [54400/60000 (91%)]\tLoss: 1.380413\n",
      "Train Epoch: 1 [55040/60000 (92%)]\tLoss: 1.281522\n",
      "Train Epoch: 1 [55680/60000 (93%)]\tLoss: 1.160847\n",
      "Train Epoch: 1 [56320/60000 (94%)]\tLoss: 1.385437\n",
      "Train Epoch: 1 [56960/60000 (95%)]\tLoss: 1.120340\n",
      "Train Epoch: 1 [57600/60000 (96%)]\tLoss: 1.371146\n",
      "Train Epoch: 1 [58240/60000 (97%)]\tLoss: 1.544102\n",
      "Train Epoch: 1 [58880/60000 (98%)]\tLoss: 1.202944\n",
      "Train Epoch: 1 [59520/60000 (99%)]\tLoss: 1.264256\n",
      "\n",
      "Test set: Avg. loss: 0.0008, Accuracy Image: 9554/10000 (96%) , Accuracy Sum: 5301/10000 (53%)\n",
      "\n",
      "Train Epoch: 2 [0/60000 (0%)]\tLoss: 1.368708\n",
      "Train Epoch: 2 [640/60000 (1%)]\tLoss: 1.292502\n",
      "Train Epoch: 2 [1280/60000 (2%)]\tLoss: 1.177699\n",
      "Train Epoch: 2 [1920/60000 (3%)]\tLoss: 1.025057\n",
      "Train Epoch: 2 [2560/60000 (4%)]\tLoss: 1.220363\n",
      "Train Epoch: 2 [3200/60000 (5%)]\tLoss: 1.343350\n",
      "Train Epoch: 2 [3840/60000 (6%)]\tLoss: 1.279713\n",
      "Train Epoch: 2 [4480/60000 (7%)]\tLoss: 1.105261\n",
      "Train Epoch: 2 [5120/60000 (9%)]\tLoss: 1.233642\n",
      "Train Epoch: 2 [5760/60000 (10%)]\tLoss: 1.007371\n",
      "Train Epoch: 2 [6400/60000 (11%)]\tLoss: 0.978817\n",
      "Train Epoch: 2 [7040/60000 (12%)]\tLoss: 1.509378\n",
      "Train Epoch: 2 [7680/60000 (13%)]\tLoss: 1.123736\n",
      "Train Epoch: 2 [8320/60000 (14%)]\tLoss: 1.052502\n",
      "Train Epoch: 2 [8960/60000 (15%)]\tLoss: 1.229664\n",
      "Train Epoch: 2 [9600/60000 (16%)]\tLoss: 1.366754\n",
      "Train Epoch: 2 [10240/60000 (17%)]\tLoss: 1.196583\n",
      "Train Epoch: 2 [10880/60000 (18%)]\tLoss: 1.267296\n",
      "Train Epoch: 2 [11520/60000 (19%)]\tLoss: 1.205589\n",
      "Train Epoch: 2 [12160/60000 (20%)]\tLoss: 1.511482\n",
      "Train Epoch: 2 [12800/60000 (21%)]\tLoss: 1.575612\n",
      "Train Epoch: 2 [13440/60000 (22%)]\tLoss: 1.287345\n",
      "Train Epoch: 2 [14080/60000 (23%)]\tLoss: 1.306952\n",
      "Train Epoch: 2 [14720/60000 (25%)]\tLoss: 1.219810\n",
      "Train Epoch: 2 [15360/60000 (26%)]\tLoss: 1.338189\n",
      "Train Epoch: 2 [16000/60000 (27%)]\tLoss: 1.094547\n",
      "Train Epoch: 2 [16640/60000 (28%)]\tLoss: 1.270458\n",
      "Train Epoch: 2 [17280/60000 (29%)]\tLoss: 1.254084\n",
      "Train Epoch: 2 [17920/60000 (30%)]\tLoss: 1.199306\n",
      "Train Epoch: 2 [18560/60000 (31%)]\tLoss: 1.074618\n",
      "Train Epoch: 2 [19200/60000 (32%)]\tLoss: 1.328678\n",
      "Train Epoch: 2 [19840/60000 (33%)]\tLoss: 1.272314\n",
      "Train Epoch: 2 [20480/60000 (34%)]\tLoss: 1.481687\n",
      "Train Epoch: 2 [21120/60000 (35%)]\tLoss: 1.091605\n",
      "Train Epoch: 2 [21760/60000 (36%)]\tLoss: 1.115461\n",
      "Train Epoch: 2 [22400/60000 (37%)]\tLoss: 0.854956\n",
      "Train Epoch: 2 [23040/60000 (38%)]\tLoss: 0.944306\n",
      "Train Epoch: 2 [23680/60000 (39%)]\tLoss: 1.089072\n",
      "Train Epoch: 2 [24320/60000 (41%)]\tLoss: 1.170470\n",
      "Train Epoch: 2 [24960/60000 (42%)]\tLoss: 1.188495\n",
      "Train Epoch: 2 [25600/60000 (43%)]\tLoss: 0.966299\n",
      "Train Epoch: 2 [26240/60000 (44%)]\tLoss: 1.164745\n",
      "Train Epoch: 2 [26880/60000 (45%)]\tLoss: 1.249297\n",
      "Train Epoch: 2 [27520/60000 (46%)]\tLoss: 1.127705\n",
      "Train Epoch: 2 [28160/60000 (47%)]\tLoss: 1.059642\n",
      "Train Epoch: 2 [28800/60000 (48%)]\tLoss: 1.156698\n",
      "Train Epoch: 2 [29440/60000 (49%)]\tLoss: 0.996178\n",
      "Train Epoch: 2 [30080/60000 (50%)]\tLoss: 0.995139\n",
      "Train Epoch: 2 [30720/60000 (51%)]\tLoss: 1.118698\n",
      "Train Epoch: 2 [31360/60000 (52%)]\tLoss: 0.979676\n",
      "Train Epoch: 2 [32000/60000 (53%)]\tLoss: 1.331945\n",
      "Train Epoch: 2 [32640/60000 (54%)]\tLoss: 1.248466\n",
      "Train Epoch: 2 [33280/60000 (55%)]\tLoss: 1.249170\n",
      "Train Epoch: 2 [33920/60000 (57%)]\tLoss: 1.102851\n",
      "Train Epoch: 2 [34560/60000 (58%)]\tLoss: 1.315424\n",
      "Train Epoch: 2 [35200/60000 (59%)]\tLoss: 1.159783\n",
      "Train Epoch: 2 [35840/60000 (60%)]\tLoss: 0.883425\n",
      "Train Epoch: 2 [36480/60000 (61%)]\tLoss: 1.293983\n",
      "Train Epoch: 2 [37120/60000 (62%)]\tLoss: 1.091527\n",
      "Train Epoch: 2 [37760/60000 (63%)]\tLoss: 1.020940\n",
      "Train Epoch: 2 [38400/60000 (64%)]\tLoss: 1.233881\n",
      "Train Epoch: 2 [39040/60000 (65%)]\tLoss: 1.025157\n",
      "Train Epoch: 2 [39680/60000 (66%)]\tLoss: 1.266367\n",
      "Train Epoch: 2 [40320/60000 (67%)]\tLoss: 1.037906\n",
      "Train Epoch: 2 [40960/60000 (68%)]\tLoss: 1.248419\n",
      "Train Epoch: 2 [41600/60000 (69%)]\tLoss: 1.039584\n",
      "Train Epoch: 2 [42240/60000 (70%)]\tLoss: 1.088309\n",
      "Train Epoch: 2 [42880/60000 (71%)]\tLoss: 1.249957\n",
      "Train Epoch: 2 [43520/60000 (72%)]\tLoss: 1.318997\n",
      "Train Epoch: 2 [44160/60000 (74%)]\tLoss: 1.259669\n",
      "Train Epoch: 2 [44800/60000 (75%)]\tLoss: 1.238402\n",
      "Train Epoch: 2 [45440/60000 (76%)]\tLoss: 1.090072\n",
      "Train Epoch: 2 [46080/60000 (77%)]\tLoss: 1.127292\n",
      "Train Epoch: 2 [46720/60000 (78%)]\tLoss: 1.484907\n",
      "Train Epoch: 2 [47360/60000 (79%)]\tLoss: 1.178279\n",
      "Train Epoch: 2 [48000/60000 (80%)]\tLoss: 1.131949\n",
      "Train Epoch: 2 [48640/60000 (81%)]\tLoss: 1.044399\n",
      "Train Epoch: 2 [49280/60000 (82%)]\tLoss: 1.172032\n",
      "Train Epoch: 2 [49920/60000 (83%)]\tLoss: 0.970482\n",
      "Train Epoch: 2 [50560/60000 (84%)]\tLoss: 1.388758\n",
      "Train Epoch: 2 [51200/60000 (85%)]\tLoss: 1.374367\n",
      "Train Epoch: 2 [51840/60000 (86%)]\tLoss: 1.326989\n",
      "Train Epoch: 2 [52480/60000 (87%)]\tLoss: 0.830869\n",
      "Train Epoch: 2 [53120/60000 (88%)]\tLoss: 0.936914\n",
      "Train Epoch: 2 [53760/60000 (90%)]\tLoss: 1.171673\n",
      "Train Epoch: 2 [54400/60000 (91%)]\tLoss: 1.196947\n",
      "Train Epoch: 2 [55040/60000 (92%)]\tLoss: 1.096796\n",
      "Train Epoch: 2 [55680/60000 (93%)]\tLoss: 1.063131\n",
      "Train Epoch: 2 [56320/60000 (94%)]\tLoss: 1.055226\n",
      "Train Epoch: 2 [56960/60000 (95%)]\tLoss: 1.388423\n",
      "Train Epoch: 2 [57600/60000 (96%)]\tLoss: 1.344841\n",
      "Train Epoch: 2 [58240/60000 (97%)]\tLoss: 1.199106\n",
      "Train Epoch: 2 [58880/60000 (98%)]\tLoss: 1.050092\n",
      "Train Epoch: 2 [59520/60000 (99%)]\tLoss: 1.231467\n",
      "\n",
      "Test set: Avg. loss: 0.0008, Accuracy Image: 9623/10000 (96%) , Accuracy Sum: 5513/10000 (55%)\n",
      "\n"
     ]
    }
   ],
   "source": [
    "for epoch in range(1, n_epochs + 1):\n",
    "    train(network, train_loader, optimizer, epoch)\n",
    "    test(network, test_loader)"
   ]
  },
  {
   "cell_type": "code",
   "execution_count": 39,
   "metadata": {
    "colab": {
     "base_uri": "https://localhost:8080/",
     "height": 279.0
    },
    "id": "f9aJbDY2kjrz",
    "outputId": "419095b6-af40-40c5-ed16-755cd1a756b4"
   },
   "outputs": [
    {
     "data": {
      "image/png": "[encoded data removed]",
      "text/plain": [
       "<Figure size 432x288 with 1 Axes>"
      ]
     },
     "metadata": {
      "needs_background": "light"
     },
     "output_type": "display_data"
    }
   ],
   "source": [
    "plot_loss()"
   ]
  },
  {
   "cell_type": "code",
   "execution_count": 40,
   "metadata": {
    "colab": {
     "base_uri": "https://localhost:8080/"
    },
    "id": "DaS3J88-k9X_",
    "outputId": "6b811c29-579b-416b-dfa7-0719fa0247b5"
   },
   "outputs": [
    {
     "name": "stderr",
     "output_type": "stream",
     "text": [
      "/usr/local/lib/python3.7/dist-packages/ipykernel_launcher.py:38: UserWarning: Implicit dimension choice for log_softmax has been deprecated. Change the call to include dim=X as an argument.\n",
      "/usr/local/lib/python3.7/dist-packages/ipykernel_launcher.py:67: UserWarning: Implicit dimension choice for log_softmax has been deprecated. Change the call to include dim=X as an argument.\n"
     ]
    },
    {
     "name": "stdout",
     "output_type": "stream",
     "text": [
      "Image Predicted:3, Image Actual:3,Random Input Number:8,Sum Precicted:11, Sum Actual:11\n",
      "Image Predicted:1, Image Actual:1,Random Input Number:3,Sum Precicted:4, Sum Actual:4\n",
      "Image Predicted:0, Image Actual:0,Random Input Number:4,Sum Precicted:4, Sum Actual:4\n",
      "Image Predicted:1, Image Actual:1,Random Input Number:2,Sum Precicted:0, Sum Actual:3\n",
      "Image Predicted:0, Image Actual:0,Random Input Number:7,Sum Precicted:7, Sum Actual:7\n",
      "Image Predicted:7, Image Actual:7,Random Input Number:6,Sum Precicted:0, Sum Actual:13\n",
      "Image Predicted:4, Image Actual:4,Random Input Number:7,Sum Precicted:11, Sum Actual:11\n",
      "Image Predicted:1, Image Actual:1,Random Input Number:9,Sum Precicted:10, Sum Actual:10\n",
      "Image Predicted:1, Image Actual:1,Random Input Number:5,Sum Precicted:6, Sum Actual:6\n",
      "Image Predicted:2, Image Actual:2,Random Input Number:2,Sum Precicted:4, Sum Actual:4\n"
     ]
    }
   ],
   "source": [
    "run_some_samples(network,test_loader,10)"
   ]
  }
 ],
 "metadata": {
  "kernelspec": {
   "name": "python3",
   "display_name": "Python 3"
  },
  "colab": {
   "name": "assignment2-5.ipynb",
   "provenance": []
  },
  "language_info": {
   "name": "python"
  },
  "accelerator": "GPU"
 },
 "nbformat": 4,
 "nbformat_minor": 0
}
