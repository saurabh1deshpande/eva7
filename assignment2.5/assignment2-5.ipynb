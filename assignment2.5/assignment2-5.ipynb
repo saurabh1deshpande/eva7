{
  "nbformat": 4,
  "nbformat_minor": 0,
  "metadata": {
    "kernelspec": {
      "name": "python3",
      "display_name": "Python 3"
    },
    "colab": {
      "name": "assignment2-5.ipynb",
      "provenance": []
    },
    "language_info": {
      "name": "python"
    },
    "accelerator": "GPU",
    "widgets": {
      "application/vnd.jupyter.widget-state+json": {
        "473355b2504c4442a7000e482e9f08c7": {
          "model_module": "@jupyter-widgets/controls",
          "model_name": "HBoxModel",
          "model_module_version": "1.5.0",
          "state": {
            "_view_name": "HBoxView",
            "_dom_classes": [],
            "_model_name": "HBoxModel",
            "_view_module": "@jupyter-widgets/controls",
            "_model_module_version": "1.5.0",
            "_view_count": null,
            "_view_module_version": "1.5.0",
            "box_style": "",
            "layout": "IPY_MODEL_e94b79b1c494427f9894e2bcca35ab4b",
            "_model_module": "@jupyter-widgets/controls",
            "children": [
              "IPY_MODEL_0bc6195483d846e6abbdc19a469030e0",
              "IPY_MODEL_fdc00dd440804b2d868a9b8135a0e433",
              "IPY_MODEL_f883a83852564ab4b6950314fd967e7a"
            ]
          }
        },
        "e94b79b1c494427f9894e2bcca35ab4b": {
          "model_module": "@jupyter-widgets/base",
          "model_name": "LayoutModel",
          "model_module_version": "1.2.0",
          "state": {
            "_view_name": "LayoutView",
            "grid_template_rows": null,
            "right": null,
            "justify_content": null,
            "_view_module": "@jupyter-widgets/base",
            "overflow": null,
            "_model_module_version": "1.2.0",
            "_view_count": null,
            "flex_flow": null,
            "width": null,
            "min_width": null,
            "border": null,
            "align_items": null,
            "bottom": null,
            "_model_module": "@jupyter-widgets/base",
            "top": null,
            "grid_column": null,
            "overflow_y": null,
            "overflow_x": null,
            "grid_auto_flow": null,
            "grid_area": null,
            "grid_template_columns": null,
            "flex": null,
            "_model_name": "LayoutModel",
            "justify_items": null,
            "grid_row": null,
            "max_height": null,
            "align_content": null,
            "visibility": null,
            "align_self": null,
            "height": null,
            "min_height": null,
            "padding": null,
            "grid_auto_rows": null,
            "grid_gap": null,
            "max_width": null,
            "order": null,
            "_view_module_version": "1.2.0",
            "grid_template_areas": null,
            "object_position": null,
            "object_fit": null,
            "grid_auto_columns": null,
            "margin": null,
            "display": null,
            "left": null
          }
        },
        "0bc6195483d846e6abbdc19a469030e0": {
          "model_module": "@jupyter-widgets/controls",
          "model_name": "HTMLModel",
          "model_module_version": "1.5.0",
          "state": {
            "_view_name": "HTMLView",
            "style": "IPY_MODEL_fcb9d1cf0051428f84d2950c44c34cbf",
            "_dom_classes": [],
            "description": "",
            "_model_name": "HTMLModel",
            "placeholder": "​",
            "_view_module": "@jupyter-widgets/controls",
            "_model_module_version": "1.5.0",
            "value": "",
            "_view_count": null,
            "_view_module_version": "1.5.0",
            "description_tooltip": null,
            "_model_module": "@jupyter-widgets/controls",
            "layout": "IPY_MODEL_162b0c920c224e37b906216a9b7349fd"
          }
        },
        "fdc00dd440804b2d868a9b8135a0e433": {
          "model_module": "@jupyter-widgets/controls",
          "model_name": "FloatProgressModel",
          "model_module_version": "1.5.0",
          "state": {
            "_view_name": "ProgressView",
            "style": "IPY_MODEL_6980a5c4cfa94d7fb0ec41e06c599f83",
            "_dom_classes": [],
            "description": "",
            "_model_name": "FloatProgressModel",
            "bar_style": "success",
            "max": 9912422,
            "_view_module": "@jupyter-widgets/controls",
            "_model_module_version": "1.5.0",
            "value": 9912422,
            "_view_count": null,
            "_view_module_version": "1.5.0",
            "orientation": "horizontal",
            "min": 0,
            "description_tooltip": null,
            "_model_module": "@jupyter-widgets/controls",
            "layout": "IPY_MODEL_1d6cb1a12ce04749a0e6b941c8855f66"
          }
        },
        "f883a83852564ab4b6950314fd967e7a": {
          "model_module": "@jupyter-widgets/controls",
          "model_name": "HTMLModel",
          "model_module_version": "1.5.0",
          "state": {
            "_view_name": "HTMLView",
            "style": "IPY_MODEL_fbd06fabc42f4622bdf5809c61cf5a62",
            "_dom_classes": [],
            "description": "",
            "_model_name": "HTMLModel",
            "placeholder": "​",
            "_view_module": "@jupyter-widgets/controls",
            "_model_module_version": "1.5.0",
            "value": " 9913344/? [00:00&lt;00:00, 55831894.50it/s]",
            "_view_count": null,
            "_view_module_version": "1.5.0",
            "description_tooltip": null,
            "_model_module": "@jupyter-widgets/controls",
            "layout": "IPY_MODEL_29099fbf9df54305912e4e5ba6d9a83c"
          }
        },
        "fcb9d1cf0051428f84d2950c44c34cbf": {
          "model_module": "@jupyter-widgets/controls",
          "model_name": "DescriptionStyleModel",
          "model_module_version": "1.5.0",
          "state": {
            "_view_name": "StyleView",
            "_model_name": "DescriptionStyleModel",
            "description_width": "",
            "_view_module": "@jupyter-widgets/base",
            "_model_module_version": "1.5.0",
            "_view_count": null,
            "_view_module_version": "1.2.0",
            "_model_module": "@jupyter-widgets/controls"
          }
        },
        "162b0c920c224e37b906216a9b7349fd": {
          "model_module": "@jupyter-widgets/base",
          "model_name": "LayoutModel",
          "model_module_version": "1.2.0",
          "state": {
            "_view_name": "LayoutView",
            "grid_template_rows": null,
            "right": null,
            "justify_content": null,
            "_view_module": "@jupyter-widgets/base",
            "overflow": null,
            "_model_module_version": "1.2.0",
            "_view_count": null,
            "flex_flow": null,
            "width": null,
            "min_width": null,
            "border": null,
            "align_items": null,
            "bottom": null,
            "_model_module": "@jupyter-widgets/base",
            "top": null,
            "grid_column": null,
            "overflow_y": null,
            "overflow_x": null,
            "grid_auto_flow": null,
            "grid_area": null,
            "grid_template_columns": null,
            "flex": null,
            "_model_name": "LayoutModel",
            "justify_items": null,
            "grid_row": null,
            "max_height": null,
            "align_content": null,
            "visibility": null,
            "align_self": null,
            "height": null,
            "min_height": null,
            "padding": null,
            "grid_auto_rows": null,
            "grid_gap": null,
            "max_width": null,
            "order": null,
            "_view_module_version": "1.2.0",
            "grid_template_areas": null,
            "object_position": null,
            "object_fit": null,
            "grid_auto_columns": null,
            "margin": null,
            "display": null,
            "left": null
          }
        },
        "6980a5c4cfa94d7fb0ec41e06c599f83": {
          "model_module": "@jupyter-widgets/controls",
          "model_name": "ProgressStyleModel",
          "model_module_version": "1.5.0",
          "state": {
            "_view_name": "StyleView",
            "_model_name": "ProgressStyleModel",
            "description_width": "",
            "_view_module": "@jupyter-widgets/base",
            "_model_module_version": "1.5.0",
            "_view_count": null,
            "_view_module_version": "1.2.0",
            "bar_color": null,
            "_model_module": "@jupyter-widgets/controls"
          }
        },
        "1d6cb1a12ce04749a0e6b941c8855f66": {
          "model_module": "@jupyter-widgets/base",
          "model_name": "LayoutModel",
          "model_module_version": "1.2.0",
          "state": {
            "_view_name": "LayoutView",
            "grid_template_rows": null,
            "right": null,
            "justify_content": null,
            "_view_module": "@jupyter-widgets/base",
            "overflow": null,
            "_model_module_version": "1.2.0",
            "_view_count": null,
            "flex_flow": null,
            "width": null,
            "min_width": null,
            "border": null,
            "align_items": null,
            "bottom": null,
            "_model_module": "@jupyter-widgets/base",
            "top": null,
            "grid_column": null,
            "overflow_y": null,
            "overflow_x": null,
            "grid_auto_flow": null,
            "grid_area": null,
            "grid_template_columns": null,
            "flex": null,
            "_model_name": "LayoutModel",
            "justify_items": null,
            "grid_row": null,
            "max_height": null,
            "align_content": null,
            "visibility": null,
            "align_self": null,
            "height": null,
            "min_height": null,
            "padding": null,
            "grid_auto_rows": null,
            "grid_gap": null,
            "max_width": null,
            "order": null,
            "_view_module_version": "1.2.0",
            "grid_template_areas": null,
            "object_position": null,
            "object_fit": null,
            "grid_auto_columns": null,
            "margin": null,
            "display": null,
            "left": null
          }
        },
        "fbd06fabc42f4622bdf5809c61cf5a62": {
          "model_module": "@jupyter-widgets/controls",
          "model_name": "DescriptionStyleModel",
          "model_module_version": "1.5.0",
          "state": {
            "_view_name": "StyleView",
            "_model_name": "DescriptionStyleModel",
            "description_width": "",
            "_view_module": "@jupyter-widgets/base",
            "_model_module_version": "1.5.0",
            "_view_count": null,
            "_view_module_version": "1.2.0",
            "_model_module": "@jupyter-widgets/controls"
          }
        },
        "29099fbf9df54305912e4e5ba6d9a83c": {
          "model_module": "@jupyter-widgets/base",
          "model_name": "LayoutModel",
          "model_module_version": "1.2.0",
          "state": {
            "_view_name": "LayoutView",
            "grid_template_rows": null,
            "right": null,
            "justify_content": null,
            "_view_module": "@jupyter-widgets/base",
            "overflow": null,
            "_model_module_version": "1.2.0",
            "_view_count": null,
            "flex_flow": null,
            "width": null,
            "min_width": null,
            "border": null,
            "align_items": null,
            "bottom": null,
            "_model_module": "@jupyter-widgets/base",
            "top": null,
            "grid_column": null,
            "overflow_y": null,
            "overflow_x": null,
            "grid_auto_flow": null,
            "grid_area": null,
            "grid_template_columns": null,
            "flex": null,
            "_model_name": "LayoutModel",
            "justify_items": null,
            "grid_row": null,
            "max_height": null,
            "align_content": null,
            "visibility": null,
            "align_self": null,
            "height": null,
            "min_height": null,
            "padding": null,
            "grid_auto_rows": null,
            "grid_gap": null,
            "max_width": null,
            "order": null,
            "_view_module_version": "1.2.0",
            "grid_template_areas": null,
            "object_position": null,
            "object_fit": null,
            "grid_auto_columns": null,
            "margin": null,
            "display": null,
            "left": null
          }
        }
      }
    }
  },
  "cells": [
    {
      "cell_type": "code",
      "metadata": {
        "collapsed": true,
        "id": "AGbMMU0gktHN"
      },
      "source": [
        "import torch\n",
        "import torchvision\n",
        "import torch.nn as nn\n",
        "import torch.nn.functional as F\n",
        "import torch.optim as optim\n",
        "from datetime import datetime\n",
        "import matplotlib.pyplot as plt\n",
        "from torch.utils.data import Dataset\n",
        "from torchvision.datasets import MNIST\n",
        "from random import randrange\n",
        "from matplotlib import pyplot as plt"
      ],
      "execution_count": 4,
      "outputs": []
    },
    {
      "cell_type": "code",
      "metadata": {
        "id": "oo17usX2kFvq",
        "outputId": "a591b821-c86b-4f4b-c7f5-4ef8a5e2d575",
        "colab": {
          "base_uri": "https://localhost:8080/"
        }
      },
      "source": [
        "loss_function = F.nll_loss\n",
        "use_gpu = torch.cuda.is_available()\n",
        "use_gpu"
      ],
      "execution_count": 15,
      "outputs": [
        {
          "output_type": "execute_result",
          "data": {
            "text/plain": [
              "True"
            ]
          },
          "metadata": {},
          "execution_count": 15
        }
      ]
    },
    {
      "cell_type": "code",
      "metadata": {
        "id": "WYce_-g9mF1I"
      },
      "source": [
        "# Neural Network Class\n",
        "class Network(nn.Module):\n",
        "    def __init__(self):\n",
        "        super(Network, self).__init__()\n",
        "        # Layers for Image Number Prediction\n",
        "        # input 28 | output 24 | Because of Stride 5\n",
        "        self.conv1 = nn.Conv2d(in_channels=1, out_channels=10, kernel_size=5)\n",
        "\n",
        "        # input 24 | output 20 | Because of Stride 5\n",
        "        self.conv2 = nn.Conv2d(in_channels=10, out_channels=20, kernel_size=5)\n",
        "        self.conv2_drop = nn.Dropout2d()\n",
        "        self.fc1 = nn.Linear(in_features=20 * 4 * 4, out_features=50)\n",
        "        self.out = nn.Linear(in_features=50, out_features=10)\n",
        "\n",
        "        # Layers for Sum Prediction\n",
        "        self.sum_fc1 = nn.Linear(in_features=20, out_features=50)\n",
        "        self.sum_fc2 = nn.Linear(in_features=50, out_features=70)\n",
        "        self.sum_fc3 = nn.Linear(in_features=70, out_features=40)\n",
        "        self.sum_out = nn.Linear(in_features=40, out_features=19)\n",
        "\n",
        "\n",
        "    def forward(self, x, x_int):\n",
        "        # Processing Image\n",
        "        x = self.conv1(x) # input image size 28 | output image size 24 | Because of Stride 5\n",
        "        x = F.max_pool2d(x, kernel_size=2, stride=2)  # input image size 24 | output image size 12 | Because of Maxpooling\n",
        "        x = F.relu(x) # Output Channels 10\n",
        "\n",
        "\n",
        "        x = self.conv2(x) # input image size 12 | output image size 8 | Because of Stride 5\n",
        "        x = self.conv2_drop(x)\n",
        "        x = F.max_pool2d(x, kernel_size=2,stride=2)   # input image size 8 | output image size 4 | Because of Maxpooling\n",
        "        x = F.relu(x) # Output Channels 20\n",
        "\n",
        "        x = x.reshape(-1, 20 * 4 * 4)\n",
        "\n",
        "        x = F.relu(self.fc1(x))\n",
        "        x = F.dropout(x, training=self.training)\n",
        "        x = F.log_softmax(F.relu(self.out(x)))\n",
        "\n",
        "        # Processing Number\n",
        "        # Getting number predicted by the image network\n",
        "        num_x = x.data.max(1, keepdim=True)[1]\n",
        "\n",
        "        # One hot encoding of the number predicted by the image network - 10 classes - 0 to 9\n",
        "        num_x_one_hot = F.one_hot(num_x.squeeze(), num_classes=10)\n",
        "        \n",
        "        # One Hot encoding of input number - 10 classes - 0 to 9\n",
        "        x_int_one_hot = F.one_hot(x_int, num_classes=10)\n",
        "\n",
        "        # This condition is required for testing single sample\n",
        "        if len(num_x_one_hot.shape) == 1:\n",
        "            num_x_one_hot = num_x_one_hot.unsqueeze(dim=0)\n",
        "\n",
        "        # Concatnet the one hot encoded image number and input number columnwise - dim=1\n",
        "        # For batch size of 1000\n",
        "        # One hot encoded image number shape 1000 x 10\n",
        "        # One hot encoded input number shape 1000 x 10\n",
        "\n",
        "        sum_t = torch.cat((num_x_one_hot,x_int_one_hot), dim=1).float()\n",
        "        # After concatenation - 1000 x 20\n",
        "\n",
        "        # Now take channels from 20 -> 50 -> 70 -> 40 -> 19\n",
        "        # Final channels are 19 - as the maximum sum can be 9 + 9 = 18\n",
        "        sum_t = F.relu(self.sum_fc1(sum_t))\n",
        "        sum_t = F.dropout(F.relu(self.sum_fc2(sum_t)), training=self.training)\n",
        "        sum_t = F.dropout(F.relu(self.sum_fc3(sum_t)), training=self.training)\n",
        "        sum_t = F.log_softmax(F.relu(self.sum_out(sum_t)))\n",
        "\n",
        "        # Returning processed image and number \n",
        "        return x,sum_t"
      ],
      "execution_count": 5,
      "outputs": []
    },
    {
      "cell_type": "code",
      "metadata": {
        "id": "J6pJftt1r6pD"
      },
      "source": [
        "# Custom dataloader combining image and a random number\n",
        "# Inherits from MNIST\n",
        "# We need to override only __getitem__ to return a random number along with an image\n",
        "class MNISTPlusDataset(MNIST):\n",
        "    def __getitem__(self, index):\n",
        "        # User parent class __getitem__ method to get an image\n",
        "        item = super(MNISTPlusDataset, self).__getitem__(index)\n",
        "\n",
        "        # Generate random int 0 to 9\n",
        "        random_int = torch.tensor(randrange(10))\n",
        "\n",
        "        # return tuple with following \n",
        "        # x :  a tuple, image and a random number\n",
        "        # y : a tuple, true image lable and random number + true image number \n",
        "        return (\n",
        "            (item[0], random_int),\n",
        "            (item[1],random_int + item[1])\n",
        "        )"
      ],
      "execution_count": 6,
      "outputs": []
    },
    {
      "cell_type": "code",
      "metadata": {
        "id": "R8jUGw37xwch"
      },
      "source": [
        "# Custom loss function\n",
        "# Combines loss from image and sum processing\n",
        "# Returns average loss\n",
        "def custom_loss(x_output,y,x_sum_output,y_sum):\n",
        "    loss_x = loss_function(x_output,y)\n",
        "    loss_y_sum = loss_function(x_sum_output, y_sum)\n",
        "    return (loss_x + loss_y_sum)/2"
      ],
      "execution_count": 7,
      "outputs": []
    },
    {
      "cell_type": "code",
      "metadata": {
        "id": "U_RqjYma6P0O"
      },
      "source": [
        "train_losses = []\n",
        "test_losses = []\n",
        "train_counter = []\n",
        "log_interval = 10"
      ],
      "execution_count": 8,
      "outputs": []
    },
    {
      "cell_type": "code",
      "metadata": {
        "id": "LNfsn1wiyMgj"
      },
      "source": [
        "# Train function. This runs single epoch.\n",
        "# Inputs -\n",
        "# network - Network class object\n",
        "# train_loader - Custom train loader\n",
        "# optimizer - optimizer object\n",
        "# epoc - epoc number\n",
        "def train(network, train_loader, optimizer, epoch):\n",
        "    # Turn on the training mode - enables gradient\n",
        "    network.train()\n",
        "\n",
        "    for batch_idx, (image, target) in enumerate(train_loader):\n",
        "        # Initialize gradients to zero\n",
        "        optimizer.zero_grad()\n",
        "\n",
        "        # image and targets are tuples as mentioned in custom dataloader class\n",
        "        output, output_sum = network(image[0], image[1])\n",
        "        loss = custom_loss(output, target[0],output_sum,target[1])\n",
        "        loss.backward()\n",
        "        optimizer.step()\n",
        "\n",
        "        if batch_idx % log_interval == 0:\n",
        "            if batch_idx % log_interval == 0:\n",
        "                print('Train Epoch: {} [{}/{} ({:.0f}%)]\\tLoss: {:.6f}'.format(\n",
        "                    epoch, batch_idx * len(image[0]), len(train_loader.dataset),\n",
        "                           100. * batch_idx / len(train_loader), loss.item()))\n",
        "                # Preserve loss for plotting\n",
        "                train_losses.append(loss.item())\n",
        "                train_counter.append(\n",
        "                    (batch_idx * 64) + ((epoch - 1) * len(train_loader.dataset)))\n",
        "      "
      ],
      "execution_count": 9,
      "outputs": []
    },
    {
      "cell_type": "code",
      "metadata": {
        "id": "bsT7cMFs6bEq"
      },
      "source": [
        "def test(network, test_loader):    \n",
        "    network.eval()\n",
        "    test_loss = 0\n",
        "    correct = 0\n",
        "    with torch.no_grad():\n",
        "        for image, target in test_loader:\n",
        "            output, output_sum = network(image[0], image[1])\n",
        "            loss = custom_loss(output, target[0], output_sum, target[1])\n",
        "            test_loss += loss.item()\n",
        "            pred = output.data.max(1, keepdim=True)[1]\n",
        "            correct += pred.eq(target[0].data.view_as(pred)).sum()\n",
        "\n",
        "        test_loss /= len(test_loader.dataset)\n",
        "        test_losses.append(test_loss)\n",
        "        print('\\nTest set: Avg. loss: {:.4f}, Accuracy: {}/{} ({:.0f}%)\\n'.format(\n",
        "            test_loss, correct, len(test_loader.dataset),\n",
        "            100. * correct / len(test_loader.dataset)))"
      ],
      "execution_count": 10,
      "outputs": []
    },
    {
      "cell_type": "code",
      "metadata": {
        "id": "jb3VKSyzjPZi"
      },
      "source": [
        "def plot_loss():\n",
        "    fig = plt.figure()\n",
        "    plt.plot(train_counter, train_losses, color='blue')\n",
        "    plt.scatter(test_counter, test_losses, color='red')\n",
        "    plt.legend(['Train Loss', 'Test Loss'], loc='upper right')\n",
        "    plt.xlabel('number of training examples seen')\n",
        "    plt.ylabel('negative log likelihood loss')\n",
        "    plt.show()\n"
      ],
      "execution_count": 11,
      "outputs": []
    },
    {
      "cell_type": "code",
      "metadata": {
        "id": "THJ-CRHlk0b9"
      },
      "source": [
        "def run_some_samples(network,test_loader,num_samples):\n",
        "    for i in range(num_samples):\n",
        "        image = next(iter(test_loader))\n",
        "        output, output_sum = network(image[0][0][i].unsqueeze(dim=0), image[0][1][i].unsqueeze(dim=0))\n",
        "        print(f\"Image Predicted:{torch.argmax(output.squeeze()).item()}, Image Actual:{image[1][0][i].item()},Random Input Number:{image[0][1][i].item()},Sum Precicted:{torch.argmax(output_sum.squeeze()).item()}, Sum Actual:{image[1][1][i]}\")\n"
      ],
      "execution_count": 20,
      "outputs": []
    },
    {
      "cell_type": "code",
      "metadata": {
        "id": "ze7gDb15jXs3"
      },
      "source": [
        "network = Network()\n",
        "n_epochs = 1\n",
        "batch_size_train = 64\n",
        "batch_size_test = 1000\n",
        "learning_rate = 0.01"
      ],
      "execution_count": 12,
      "outputs": []
    },
    {
      "cell_type": "code",
      "metadata": {
        "id": "elkqESv-j2f1",
        "outputId": "f0af481c-bc5d-4304-92e8-4016905c8885",
        "colab": {
          "base_uri": "https://localhost:8080/",
          "height": 477,
          "referenced_widgets": [
            "473355b2504c4442a7000e482e9f08c7",
            "e94b79b1c494427f9894e2bcca35ab4b",
            "0bc6195483d846e6abbdc19a469030e0",
            "fdc00dd440804b2d868a9b8135a0e433",
            "f883a83852564ab4b6950314fd967e7a",
            "fcb9d1cf0051428f84d2950c44c34cbf",
            "162b0c920c224e37b906216a9b7349fd",
            "6980a5c4cfa94d7fb0ec41e06c599f83",
            "1d6cb1a12ce04749a0e6b941c8855f66",
            "fbd06fabc42f4622bdf5809c61cf5a62",
            "29099fbf9df54305912e4e5ba6d9a83c"
          ]
        }
      },
      "source": [
        "train_loader = torch.utils.data.DataLoader(\n",
        "        MNISTPlusDataset('/files/', train=True, download=True,\n",
        "                                   transform=torchvision.transforms.Compose([\n",
        "                                       torchvision.transforms.ToTensor(),\n",
        "                                       torchvision.transforms.Normalize(\n",
        "                                           (0.1307,), (0.3081,))\n",
        "                                   ])),\n",
        "        batch_size=batch_size_train, shuffle=True)\n",
        "\n",
        "test_loader = torch.utils.data.DataLoader(\n",
        "    MNISTPlusDataset('/files/', train=False, download=True,\n",
        "                                transform=torchvision.transforms.Compose([\n",
        "                                    torchvision.transforms.ToTensor(),\n",
        "                                    torchvision.transforms.Normalize(\n",
        "                                        (0.1307,), (0.3081,))\n",
        "                                ])),\n",
        "    batch_size=batch_size_test, shuffle=True)"
      ],
      "execution_count": 13,
      "outputs": [
        {
          "output_type": "stream",
          "name": "stdout",
          "text": [
            "Downloading http://yann.lecun.com/exdb/mnist/train-images-idx3-ubyte.gz\n",
            "Downloading http://yann.lecun.com/exdb/mnist/train-images-idx3-ubyte.gz to /files/MNISTPlusDataset/raw/train-images-idx3-ubyte.gz\n"
          ]
        },
        {
          "output_type": "display_data",
          "data": {
            "application/vnd.jupyter.widget-view+json": {
              "model_id": "473355b2504c4442a7000e482e9f08c7",
              "version_minor": 0,
              "version_major": 2
            },
            "text/plain": [
              "  0%|          | 0/9912422 [00:00<?, ?it/s]"
            ]
          },
          "metadata": {}
        },
        {
          "output_type": "stream",
          "name": "stdout",
          "text": [
            "Extracting /files/MNISTPlusDataset/raw/train-images-idx3-ubyte.gz to /files/MNISTPlusDataset/raw\n",
            "\n",
            "Downloading http://yann.lecun.com/exdb/mnist/train-labels-idx1-ubyte.gz\n",
            "Downloading http://yann.lecun.com/exdb/mnist/train-labels-idx1-ubyte.gz to /files/MNISTPlusDataset/raw/train-labels-idx1-ubyte.gz\n"
          ]
        },
        {
          "output_type": "display_data",
          "data": {
            "application/vnd.jupyter.widget-view+json": {
              "model_id": "0ce968a347704afba25b40ca652f4248",
              "version_minor": 0,
              "version_major": 2
            },
            "text/plain": [
              "  0%|          | 0/28881 [00:00<?, ?it/s]"
            ]
          },
          "metadata": {}
        },
        {
          "output_type": "stream",
          "name": "stdout",
          "text": [
            "Extracting /files/MNISTPlusDataset/raw/train-labels-idx1-ubyte.gz to /files/MNISTPlusDataset/raw\n",
            "\n",
            "Downloading http://yann.lecun.com/exdb/mnist/t10k-images-idx3-ubyte.gz\n",
            "Downloading http://yann.lecun.com/exdb/mnist/t10k-images-idx3-ubyte.gz to /files/MNISTPlusDataset/raw/t10k-images-idx3-ubyte.gz\n"
          ]
        },
        {
          "output_type": "display_data",
          "data": {
            "application/vnd.jupyter.widget-view+json": {
              "model_id": "d87dacc880954d70b6895d632e3d0bc7",
              "version_minor": 0,
              "version_major": 2
            },
            "text/plain": [
              "  0%|          | 0/1648877 [00:00<?, ?it/s]"
            ]
          },
          "metadata": {}
        },
        {
          "output_type": "stream",
          "name": "stdout",
          "text": [
            "Extracting /files/MNISTPlusDataset/raw/t10k-images-idx3-ubyte.gz to /files/MNISTPlusDataset/raw\n",
            "\n",
            "Downloading http://yann.lecun.com/exdb/mnist/t10k-labels-idx1-ubyte.gz\n",
            "Downloading http://yann.lecun.com/exdb/mnist/t10k-labels-idx1-ubyte.gz to /files/MNISTPlusDataset/raw/t10k-labels-idx1-ubyte.gz\n"
          ]
        },
        {
          "output_type": "display_data",
          "data": {
            "application/vnd.jupyter.widget-view+json": {
              "model_id": "b00af32ef2b54f48a3fd20a45d8f1311",
              "version_minor": 0,
              "version_major": 2
            },
            "text/plain": [
              "  0%|          | 0/4542 [00:00<?, ?it/s]"
            ]
          },
          "metadata": {}
        },
        {
          "output_type": "stream",
          "name": "stdout",
          "text": [
            "Extracting /files/MNISTPlusDataset/raw/t10k-labels-idx1-ubyte.gz to /files/MNISTPlusDataset/raw\n",
            "\n"
          ]
        },
        {
          "output_type": "stream",
          "name": "stderr",
          "text": [
            "/usr/local/lib/python3.7/dist-packages/torchvision/datasets/mnist.py:498: UserWarning: The given NumPy array is not writeable, and PyTorch does not support non-writeable tensors. This means you can write to the underlying (supposedly non-writeable) NumPy array using the tensor. You may want to copy the array to protect its data or make it writeable before converting it to a tensor. This type of warning will be suppressed for the rest of this program. (Triggered internally at  /pytorch/torch/csrc/utils/tensor_numpy.cpp:180.)\n",
            "  return torch.from_numpy(parsed.astype(m[2], copy=False)).view(*s)\n"
          ]
        }
      ]
    },
    {
      "cell_type": "code",
      "metadata": {
        "id": "ncFuBHa9jbw8",
        "outputId": "f78de849-8185-4d89-bd0e-0ba041240143",
        "colab": {
          "base_uri": "https://localhost:8080/"
        }
      },
      "source": [
        "test_counter = [i * len(train_loader.dataset) for i in range(n_epochs + 1)]\n",
        "optimizer = optim.Adam(network.parameters(),lr=learning_rate)\n",
        "test(network, test_loader)"
      ],
      "execution_count": 16,
      "outputs": [
        {
          "output_type": "stream",
          "name": "stderr",
          "text": [
            "/usr/local/lib/python3.7/dist-packages/ipykernel_launcher.py:38: UserWarning: Implicit dimension choice for log_softmax has been deprecated. Change the call to include dim=X as an argument.\n",
            "/usr/local/lib/python3.7/dist-packages/ipykernel_launcher.py:67: UserWarning: Implicit dimension choice for log_softmax has been deprecated. Change the call to include dim=X as an argument.\n"
          ]
        },
        {
          "output_type": "stream",
          "name": "stdout",
          "text": [
            "\n",
            "Test set: Avg. loss: 0.0026, Accuracy: 2346/10000 (23%)\n",
            "\n"
          ]
        }
      ]
    },
    {
      "cell_type": "code",
      "metadata": {
        "id": "J_8swjj7kPfR",
        "outputId": "5f2082df-d790-4c9a-9d8c-2268c5c80ba6",
        "colab": {
          "base_uri": "https://localhost:8080/"
        }
      },
      "source": [
        "for epoch in range(1, n_epochs + 1):\n",
        "    train(network, train_loader, optimizer, epoch)\n",
        "    test(network, test_loader)"
      ],
      "execution_count": 17,
      "outputs": [
        {
          "output_type": "stream",
          "name": "stderr",
          "text": [
            "/usr/local/lib/python3.7/dist-packages/ipykernel_launcher.py:38: UserWarning: Implicit dimension choice for log_softmax has been deprecated. Change the call to include dim=X as an argument.\n",
            "/usr/local/lib/python3.7/dist-packages/ipykernel_launcher.py:67: UserWarning: Implicit dimension choice for log_softmax has been deprecated. Change the call to include dim=X as an argument.\n"
          ]
        },
        {
          "output_type": "stream",
          "name": "stdout",
          "text": [
            "Train Epoch: 1 [0/60000 (0%)]\tLoss: 2.610519\n",
            "Train Epoch: 1 [640/60000 (1%)]\tLoss: 2.547856\n",
            "Train Epoch: 1 [1280/60000 (2%)]\tLoss: 2.631702\n",
            "Train Epoch: 1 [1920/60000 (3%)]\tLoss: 2.316964\n",
            "Train Epoch: 1 [2560/60000 (4%)]\tLoss: 2.346164\n",
            "Train Epoch: 1 [3200/60000 (5%)]\tLoss: 2.403849\n",
            "Train Epoch: 1 [3840/60000 (6%)]\tLoss: 2.209627\n",
            "Train Epoch: 1 [4480/60000 (7%)]\tLoss: 2.435491\n",
            "Train Epoch: 1 [5120/60000 (9%)]\tLoss: 2.087853\n",
            "Train Epoch: 1 [5760/60000 (10%)]\tLoss: 2.099165\n",
            "Train Epoch: 1 [6400/60000 (11%)]\tLoss: 2.031193\n",
            "Train Epoch: 1 [7040/60000 (12%)]\tLoss: 2.064996\n",
            "Train Epoch: 1 [7680/60000 (13%)]\tLoss: 2.083814\n",
            "Train Epoch: 1 [8320/60000 (14%)]\tLoss: 2.092877\n",
            "Train Epoch: 1 [8960/60000 (15%)]\tLoss: 1.998373\n",
            "Train Epoch: 1 [9600/60000 (16%)]\tLoss: 1.816639\n",
            "Train Epoch: 1 [10240/60000 (17%)]\tLoss: 1.987822\n",
            "Train Epoch: 1 [10880/60000 (18%)]\tLoss: 1.920467\n",
            "Train Epoch: 1 [11520/60000 (19%)]\tLoss: 2.013721\n",
            "Train Epoch: 1 [12160/60000 (20%)]\tLoss: 1.769782\n",
            "Train Epoch: 1 [12800/60000 (21%)]\tLoss: 1.697731\n",
            "Train Epoch: 1 [13440/60000 (22%)]\tLoss: 1.776997\n",
            "Train Epoch: 1 [14080/60000 (23%)]\tLoss: 1.564189\n",
            "Train Epoch: 1 [14720/60000 (25%)]\tLoss: 1.933944\n",
            "Train Epoch: 1 [15360/60000 (26%)]\tLoss: 1.699690\n",
            "Train Epoch: 1 [16000/60000 (27%)]\tLoss: 1.833518\n",
            "Train Epoch: 1 [16640/60000 (28%)]\tLoss: 1.834853\n",
            "Train Epoch: 1 [17280/60000 (29%)]\tLoss: 1.859082\n",
            "Train Epoch: 1 [17920/60000 (30%)]\tLoss: 1.825900\n",
            "Train Epoch: 1 [18560/60000 (31%)]\tLoss: 1.862260\n",
            "Train Epoch: 1 [19200/60000 (32%)]\tLoss: 1.757386\n",
            "Train Epoch: 1 [19840/60000 (33%)]\tLoss: 1.600647\n",
            "Train Epoch: 1 [20480/60000 (34%)]\tLoss: 1.874506\n",
            "Train Epoch: 1 [21120/60000 (35%)]\tLoss: 1.790779\n",
            "Train Epoch: 1 [21760/60000 (36%)]\tLoss: 1.719304\n",
            "Train Epoch: 1 [22400/60000 (37%)]\tLoss: 1.733680\n",
            "Train Epoch: 1 [23040/60000 (38%)]\tLoss: 1.916635\n",
            "Train Epoch: 1 [23680/60000 (39%)]\tLoss: 1.769330\n",
            "Train Epoch: 1 [24320/60000 (41%)]\tLoss: 1.661802\n",
            "Train Epoch: 1 [24960/60000 (42%)]\tLoss: 1.637686\n",
            "Train Epoch: 1 [25600/60000 (43%)]\tLoss: 2.118725\n",
            "Train Epoch: 1 [26240/60000 (44%)]\tLoss: 1.518695\n",
            "Train Epoch: 1 [26880/60000 (45%)]\tLoss: 1.618570\n",
            "Train Epoch: 1 [27520/60000 (46%)]\tLoss: 1.588134\n",
            "Train Epoch: 1 [28160/60000 (47%)]\tLoss: 1.593622\n",
            "Train Epoch: 1 [28800/60000 (48%)]\tLoss: 1.597118\n",
            "Train Epoch: 1 [29440/60000 (49%)]\tLoss: 1.544911\n",
            "Train Epoch: 1 [30080/60000 (50%)]\tLoss: 1.556333\n",
            "Train Epoch: 1 [30720/60000 (51%)]\tLoss: 1.691589\n",
            "Train Epoch: 1 [31360/60000 (52%)]\tLoss: 1.704177\n",
            "Train Epoch: 1 [32000/60000 (53%)]\tLoss: 1.634163\n",
            "Train Epoch: 1 [32640/60000 (54%)]\tLoss: 1.466046\n",
            "Train Epoch: 1 [33280/60000 (55%)]\tLoss: 1.405976\n",
            "Train Epoch: 1 [33920/60000 (57%)]\tLoss: 1.390119\n",
            "Train Epoch: 1 [34560/60000 (58%)]\tLoss: 1.376706\n",
            "Train Epoch: 1 [35200/60000 (59%)]\tLoss: 1.412271\n",
            "Train Epoch: 1 [35840/60000 (60%)]\tLoss: 1.242897\n",
            "Train Epoch: 1 [36480/60000 (61%)]\tLoss: 1.721935\n",
            "Train Epoch: 1 [37120/60000 (62%)]\tLoss: 1.335241\n",
            "Train Epoch: 1 [37760/60000 (63%)]\tLoss: 1.376034\n",
            "Train Epoch: 1 [38400/60000 (64%)]\tLoss: 1.519079\n",
            "Train Epoch: 1 [39040/60000 (65%)]\tLoss: 1.393226\n",
            "Train Epoch: 1 [39680/60000 (66%)]\tLoss: 1.253140\n",
            "Train Epoch: 1 [40320/60000 (67%)]\tLoss: 1.584600\n",
            "Train Epoch: 1 [40960/60000 (68%)]\tLoss: 1.344986\n",
            "Train Epoch: 1 [41600/60000 (69%)]\tLoss: 1.368616\n",
            "Train Epoch: 1 [42240/60000 (70%)]\tLoss: 1.466287\n",
            "Train Epoch: 1 [42880/60000 (71%)]\tLoss: 1.311343\n",
            "Train Epoch: 1 [43520/60000 (72%)]\tLoss: 1.469796\n",
            "Train Epoch: 1 [44160/60000 (74%)]\tLoss: 1.238551\n",
            "Train Epoch: 1 [44800/60000 (75%)]\tLoss: 1.269938\n",
            "Train Epoch: 1 [45440/60000 (76%)]\tLoss: 1.475622\n",
            "Train Epoch: 1 [46080/60000 (77%)]\tLoss: 1.315488\n",
            "Train Epoch: 1 [46720/60000 (78%)]\tLoss: 1.068236\n",
            "Train Epoch: 1 [47360/60000 (79%)]\tLoss: 1.455784\n",
            "Train Epoch: 1 [48000/60000 (80%)]\tLoss: 1.349869\n",
            "Train Epoch: 1 [48640/60000 (81%)]\tLoss: 1.484013\n",
            "Train Epoch: 1 [49280/60000 (82%)]\tLoss: 1.410065\n",
            "Train Epoch: 1 [49920/60000 (83%)]\tLoss: 1.393111\n",
            "Train Epoch: 1 [50560/60000 (84%)]\tLoss: 1.346399\n",
            "Train Epoch: 1 [51200/60000 (85%)]\tLoss: 1.482935\n",
            "Train Epoch: 1 [51840/60000 (86%)]\tLoss: 1.548461\n",
            "Train Epoch: 1 [52480/60000 (87%)]\tLoss: 1.544917\n",
            "Train Epoch: 1 [53120/60000 (88%)]\tLoss: 1.270573\n",
            "Train Epoch: 1 [53760/60000 (90%)]\tLoss: 1.443213\n",
            "Train Epoch: 1 [54400/60000 (91%)]\tLoss: 1.424740\n",
            "Train Epoch: 1 [55040/60000 (92%)]\tLoss: 1.390419\n",
            "Train Epoch: 1 [55680/60000 (93%)]\tLoss: 1.309102\n",
            "Train Epoch: 1 [56320/60000 (94%)]\tLoss: 1.415421\n",
            "Train Epoch: 1 [56960/60000 (95%)]\tLoss: 1.483576\n",
            "Train Epoch: 1 [57600/60000 (96%)]\tLoss: 1.319052\n",
            "Train Epoch: 1 [58240/60000 (97%)]\tLoss: 1.474495\n",
            "Train Epoch: 1 [58880/60000 (98%)]\tLoss: 1.278834\n",
            "Train Epoch: 1 [59520/60000 (99%)]\tLoss: 1.285528\n",
            "\n",
            "Test set: Avg. loss: 0.0009, Accuracy: 8647/10000 (86%)\n",
            "\n"
          ]
        }
      ]
    },
    {
      "cell_type": "code",
      "metadata": {
        "id": "f9aJbDY2kjrz",
        "outputId": "1d2b1a77-d694-4aad-bc95-84bc0b1bdd21",
        "colab": {
          "base_uri": "https://localhost:8080/",
          "height": 279
        }
      },
      "source": [
        "plot_loss()"
      ],
      "execution_count": 18,
      "outputs": [
        {
          "output_type": "display_data",
          "data": {
            "image/png": "[encoded data removed]",
            "text/plain": [
              "<Figure size 432x288 with 1 Axes>"
            ]
          },
          "metadata": {
            "needs_background": "light"
          }
        }
      ]
    },
    {
      "cell_type": "code",
      "metadata": {
        "id": "DaS3J88-k9X_",
        "outputId": "502c41bf-6ea3-4986-a3c6-07dcc899ab0b",
        "colab": {
          "base_uri": "https://localhost:8080/"
        }
      },
      "source": [
        "run_some_samples(network,test_loader,10)"
      ],
      "execution_count": 21,
      "outputs": [
        {
          "output_type": "stream",
          "name": "stderr",
          "text": [
            "/usr/local/lib/python3.7/dist-packages/ipykernel_launcher.py:38: UserWarning: Implicit dimension choice for log_softmax has been deprecated. Change the call to include dim=X as an argument.\n",
            "/usr/local/lib/python3.7/dist-packages/ipykernel_launcher.py:67: UserWarning: Implicit dimension choice for log_softmax has been deprecated. Change the call to include dim=X as an argument.\n"
          ]
        },
        {
          "output_type": "stream",
          "name": "stdout",
          "text": [
            "Image Predicted:1, Image Actual:1,Random Input Number:9,Sum Precicted:10, Sum Actual:10\n",
            "Image Predicted:2, Image Actual:2,Random Input Number:2,Sum Precicted:0, Sum Actual:4\n",
            "Image Predicted:7, Image Actual:7,Random Input Number:0,Sum Precicted:7, Sum Actual:7\n",
            "Image Predicted:4, Image Actual:4,Random Input Number:6,Sum Precicted:10, Sum Actual:10\n",
            "Image Predicted:0, Image Actual:0,Random Input Number:0,Sum Precicted:0, Sum Actual:0\n",
            "Image Predicted:3, Image Actual:3,Random Input Number:1,Sum Precicted:0, Sum Actual:4\n",
            "Image Predicted:4, Image Actual:4,Random Input Number:4,Sum Precicted:8, Sum Actual:8\n",
            "Image Predicted:7, Image Actual:7,Random Input Number:2,Sum Precicted:9, Sum Actual:9\n",
            "Image Predicted:1, Image Actual:1,Random Input Number:4,Sum Precicted:5, Sum Actual:5\n",
            "Image Predicted:4, Image Actual:4,Random Input Number:2,Sum Precicted:0, Sum Actual:6\n"
          ]
        }
      ]
    }
  ]
}