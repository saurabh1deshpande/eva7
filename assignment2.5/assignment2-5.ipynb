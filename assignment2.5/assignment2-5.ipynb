{
  "nbformat": 4,
  "nbformat_minor": 0,
  "metadata": {
    "kernelspec": {
      "name": "python3",
      "display_name": "Python 3"
    },
    "colab": {
      "name": "assignment2-5.ipynb",
      "provenance": []
    },
    "language_info": {
      "name": "python"
    },
    "accelerator": "GPU"
  },
  "cells": [
    {
      "cell_type": "code",
      "metadata": {
        "collapsed": true,
        "id": "AGbMMU0gktHN"
      },
      "source": [
        "import torch\n",
        "import torchvision\n",
        "import torch.nn as nn\n",
        "import torch.nn.functional as F\n",
        "import torch.optim as optim\n",
        "from datetime import datetime\n",
        "import matplotlib.pyplot as plt\n",
        "from torch.utils.data import Dataset\n",
        "from torchvision.datasets import MNIST\n",
        "from random import randrange"
      ],
      "execution_count": 1,
      "outputs": []
    },
    {
      "cell_type": "code",
      "metadata": {
        "id": "WYce_-g9mF1I"
      },
      "source": [
        "# Neural Network Class\n",
        "class Network(nn.Module):\n",
        "    def __init__(self):\n",
        "        super(Network, self).__init__()\n",
        "        # Layers for Image Number Prediction\n",
        "        # input 28 | output 24 | Because of Stride 5\n",
        "        self.conv1 = nn.Conv2d(in_channels=1, out_channels=10, kernel_size=5)\n",
        "\n",
        "        # input 24 | output 20 | Because of Stride 5\n",
        "        self.conv2 = nn.Conv2d(in_channels=10, out_channels=20, kernel_size=5)\n",
        "        self.conv2_drop = nn.Dropout2d()\n",
        "        self.fc1 = nn.Linear(in_features=20 * 4 * 4, out_features=50)\n",
        "        self.out = nn.Linear(in_features=50, out_features=10)\n",
        "\n",
        "        # Layers for Sum Prediction\n",
        "        self.sum_fc1 = nn.Linear(in_features=20, out_features=50)\n",
        "        self.sum_fc2 = nn.Linear(in_features=50, out_features=70)\n",
        "        self.sum_fc3 = nn.Linear(in_features=70, out_features=40)\n",
        "        self.sum_out = nn.Linear(in_features=40, out_features=19)\n",
        "\n",
        "\n",
        "    def forward(self, x, x_int):\n",
        "        # Processing Image\n",
        "        x = self.conv1(x) # input image size 28 | output image size 24 | Because of Stride 5\n",
        "        x = F.max_pool2d(x, kernel_size=2, stride=2)  # input image size 24 | output image size 12 | Because of Maxpooling\n",
        "        x = F.relu(x) # Output Channels 10\n",
        "\n",
        "\n",
        "        x = self.conv2(x) # input image size 12 | output image size 8 | Because of Stride 5\n",
        "        x = self.conv2_drop(x)\n",
        "        x = F.max_pool2d(x, kernel_size=2,stride=2)   # input image size 8 | output image size 4 | Because of Maxpooling\n",
        "        x = F.relu(x) # Output Channels 20\n",
        "\n",
        "        x = x.reshape(-1, 20 * 4 * 4)\n",
        "\n",
        "        x = F.relu(self.fc1(x))\n",
        "        x = F.dropout(x, training=self.training)\n",
        "        x = F.log_softmax(F.relu(self.out(x)))\n",
        "\n",
        "        # Processing Number\n",
        "        # Getting number predicted by the image network\n",
        "        num_x = x.data.max(1, keepdim=True)[1]\n",
        "\n",
        "        # One hot encoding of the number predicted by the image network - 10 classes - 0 to 9\n",
        "        num_x_one_hot = F.one_hot(num_x.squeeze(), num_classes=10)\n",
        "        \n",
        "        # One Hot encoding of input number - 10 classes - 0 to 9\n",
        "        x_int_one_hot = F.one_hot(x_int, num_classes=10)\n",
        "\n",
        "        # This condition is required for testing single sample\n",
        "        if len(num_x_one_hot.shape) == 1:\n",
        "            num_x_one_hot = num_x_one_hot.unsqueeze(dim=0)\n",
        "\n",
        "        # Concatnet the one hot encoded image number and input number columnwise - dim=1\n",
        "        # For batch size of 1000\n",
        "        # One hot encoded image number shape 1000 x 10\n",
        "        # One hot encoded input number shape 1000 x 10\n",
        "\n",
        "        sum_t = torch.cat((num_x_one_hot,x_int_one_hot), dim=1).float()\n",
        "        # After concatenation - 1000 x 20\n",
        "\n",
        "        # Now take channels from 20 -> 50 -> 70 -> 40 -> 19\n",
        "        # Final channels are 19 - as the maximum sum can be 9 + 9 = 18\n",
        "        sum_t = F.relu(self.sum_fc1(sum_t))\n",
        "        sum_t = F.dropout(F.relu(self.sum_fc2(sum_t)), training=self.training)\n",
        "        sum_t = F.dropout(F.relu(self.sum_fc3(sum_t)), training=self.training)\n",
        "        sum_t = F.log_softmax(F.relu(self.sum_out(sum_t)))\n",
        "\n",
        "        # Returning processed image and number \n",
        "        return x,sum_t"
      ],
      "execution_count": 3,
      "outputs": []
    },
    {
      "cell_type": "code",
      "metadata": {
        "id": "J6pJftt1r6pD"
      },
      "source": [
        "# Custom dataloader combining image and a random number\n",
        "# Inherits from MNIST\n",
        "# We need to override only __getitem__ to return a random number along with an image\n",
        "class MNISTPlusDataset(MNIST):\n",
        "    def __getitem__(self, index):\n",
        "        # User parent class __getitem__ method to get an image\n",
        "        item = super(MNISTPlusDataset, self).__getitem__(index)\n",
        "\n",
        "        # Generate random int 0 to 9\n",
        "        random_int = torch.tensor(randrange(10))\n",
        "\n",
        "        # return tuple with following \n",
        "        # x :  a tuple, image and a random number\n",
        "        # y : a tuple, true image lable and random number + true image number \n",
        "        return (\n",
        "            (item[0], random_int),\n",
        "            (item[1],random_int + item[1])\n",
        "        )"
      ],
      "execution_count": null,
      "outputs": []
    }
  ]
}